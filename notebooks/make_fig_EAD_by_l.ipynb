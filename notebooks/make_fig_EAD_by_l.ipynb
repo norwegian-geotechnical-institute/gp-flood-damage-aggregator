{
 "cells": [
  {
   "cell_type": "code",
   "execution_count": null,
   "id": "b87bb3e9",
   "metadata": {},
   "outputs": [],
   "source": [
    "import json\n",
    "import os\n",
    "import numpy as np\n",
    "import matplotlib.pyplot as plt\n",
    "import pandas as pd\n",
    "import seaborn as sns"
   ]
  },
  {
   "cell_type": "code",
   "execution_count": null,
   "id": "6bbfcb95",
   "metadata": {},
   "outputs": [],
   "source": [
    "DATADIR = \"/home/ebr/data/20180724/portugal-rerun\"\n",
    "os.chdir(DATADIR)\n",
    "os.getcwd()\n",
    "region = \"santarem\"\n",
    "#region = \"portugal\""
   ]
  },
  {
   "cell_type": "code",
   "execution_count": null,
   "id": "db15fa7a",
   "metadata": {},
   "outputs": [],
   "source": [
    "decorrelation_length_scale = [100, 1000, 10000] "
   ]
  },
  {
   "cell_type": "code",
   "execution_count": null,
   "id": "023073e4",
   "metadata": {},
   "outputs": [],
   "source": [
    "dfs = []\n",
    "for l_scale in decorrelation_length_scale:\n",
    "    dfs.append(pd.read_csv(os.path.join(\"out\",\"l-{}\".format(l_scale),\"{}_agg.csv\".format(region))))\n",
    "    dfs[-1][\"l\"] = l_scale\n",
    "    print(l_scale)"
   ]
  },
  {
   "cell_type": "code",
   "execution_count": null,
   "id": "b54f0f9b",
   "metadata": {},
   "outputs": [],
   "source": [
    "dfs[0]"
   ]
  },
  {
   "cell_type": "code",
   "execution_count": null,
   "id": "46fa0418",
   "metadata": {},
   "outputs": [],
   "source": [
    "df = pd.concat(dfs).reset_index(drop=True)"
   ]
  },
  {
   "cell_type": "code",
   "execution_count": null,
   "id": "cb94d10d",
   "metadata": {},
   "outputs": [],
   "source": [
    "df"
   ]
  },
  {
   "cell_type": "code",
   "execution_count": null,
   "id": "09542fbc",
   "metadata": {},
   "outputs": [],
   "source": [
    "df"
   ]
  },
  {
   "cell_type": "code",
   "execution_count": null,
   "id": "05470c54",
   "metadata": {},
   "outputs": [],
   "source": [
    "df_melt = pd.melt(df, id_vars=[\"l\"], \n",
    "        value_vars=[\"motorway\", \"primary\", \"secondary\", \"tertiary\", \"trunk\"])"
   ]
  },
  {
   "cell_type": "code",
   "execution_count": null,
   "id": "5bcf9555",
   "metadata": {},
   "outputs": [],
   "source": [
    "df_melt"
   ]
  },
  {
   "cell_type": "code",
   "execution_count": null,
   "id": "9d244f48",
   "metadata": {},
   "outputs": [],
   "source": [
    "import matplotlib.ticker as plticker\n",
    "plt.rcParams['figure.figsize'] = [10, 8]\n",
    "plt.rcParams['font.size'] = 12"
   ]
  },
  {
   "cell_type": "code",
   "execution_count": null,
   "id": "450babb4",
   "metadata": {},
   "outputs": [],
   "source": [
    "fig, ax = plt.subplots()\n",
    "\n",
    "flierprops = dict(markersize=3, alpha=0.5)\n",
    "\n",
    "ax = sns.boxplot(ax=ax, \n",
    "                 y=\"value\", \n",
    "                 x=\"variable\", \n",
    "                 hue=\"l\", \n",
    "                 data=df_melt, \n",
    "                 palette=\"Set3\",\n",
    "                 whis=[2.5, 97.5],\n",
    "                 linewidth = 0.8,\n",
    "                 flierprops=flierprops)\n",
    "\n",
    "ax.set_xlabel(\"Road type\")\n",
    "ax.set_ylabel(\"EAD[m]\")\n",
    "\n",
    "# Ticks\n",
    "# this locator puts ticks at regular intervals\n",
    "major_loc = plticker.MultipleLocator(base=200.0) \n",
    "minor_loc = plticker.MultipleLocator(base=100.0) \n",
    "ax.yaxis.set_major_locator(major_loc)\n",
    "ax.yaxis.set_minor_locator(minor_loc)\n",
    "\n",
    "# And a corresponding grid\n",
    "ax.grid(which='both')\n",
    "\n",
    "ax.legend().set_title('Length scale ($\\ell$)')\n",
    "\n",
    "# save figure.\n",
    "plt.savefig(\"src/notebooks/figures/edm-{}.png\".format(region), format='png')\n",
    "plt.savefig(\"src/notebooks/figures/edm-{}.eps\".format(region), format='eps')"
   ]
  },
  {
   "cell_type": "markdown",
   "id": "ad4bd65a",
   "metadata": {},
   "source": [
    "# Boxplot of single road segment."
   ]
  },
  {
   "cell_type": "code",
   "execution_count": null,
   "id": "331e5c1b",
   "metadata": {},
   "outputs": [],
   "source": [
    "import geopandas\n",
    "\n",
    "segment_id = 132751438"
   ]
  },
  {
   "cell_type": "code",
   "execution_count": null,
   "id": "493fda34",
   "metadata": {},
   "outputs": [],
   "source": [
    "dfs = []\n",
    "\n",
    "for l_scale in decorrelation_length_scale:\n",
    "    segments_gdf = geopandas.read_file(os.path.join(DATADIR,\n",
    "                                                \"out/l-{}\".format(l_scale),\n",
    "                                                \"damaged_segments.shp\"))\n",
    "    segment_edm = segments_gdf[segments_gdf.id == segment_id].filter(regex = (\"EDM_\\d\")).T\n",
    "    segment_edm[\"l\"] = l_scale\n",
    "    dfs.append(segment_edm)\n",
    "    dfs[-1][\"l\"] = l_scale"
   ]
  },
  {
   "cell_type": "code",
   "execution_count": null,
   "id": "38b862b5",
   "metadata": {},
   "outputs": [],
   "source": []
  },
  {
   "cell_type": "code",
   "execution_count": null,
   "id": "c855b05e",
   "metadata": {},
   "outputs": [],
   "source": [
    "df = pd.concat(dfs).reset_index(drop=True)"
   ]
  },
  {
   "cell_type": "code",
   "execution_count": null,
   "id": "26a9e86d",
   "metadata": {},
   "outputs": [],
   "source": [
    "df"
   ]
  },
  {
   "cell_type": "code",
   "execution_count": null,
   "id": "c605c426",
   "metadata": {},
   "outputs": [],
   "source": [
    "fig, ax = plt.subplots()\n",
    "\n",
    "flierprops = dict(markersize=3, alpha=0.5)\n",
    "\n",
    "ax = sns.boxplot(ax=ax,\n",
    "                 y=725,\n",
    "                 x=\"l\",\n",
    "                 data=df, \n",
    "                 palette=\"Set3\",\n",
    "                 whis=[2.5, 97.5],\n",
    "                 linewidth = 0.8,\n",
    "                 flierprops=flierprops)\n",
    "\n",
    "ax.set_xlabel(\"Length scale ($\\ell$)\")\n",
    "ax.set_ylabel(\"EAD[m]\")\n",
    "\n",
    "# Ticks\n",
    "# this locator puts ticks at regular intervals\n",
    "major_loc = plticker.MultipleLocator(base=2.0) \n",
    "minor_loc = plticker.MultipleLocator(base=1.0) \n",
    "ax.yaxis.set_major_locator(major_loc)\n",
    "ax.yaxis.set_minor_locator(minor_loc)\n",
    "\n",
    "# And a corresponding grid\n",
    "ax.grid(which='both')\n"
   ]
  },
  {
   "cell_type": "code",
   "execution_count": null,
   "id": "e02cccda",
   "metadata": {},
   "outputs": [],
   "source": []
  }
 ],
 "metadata": {
  "kernelspec": {
   "display_name": "flood-dam-portugal",
   "language": "python",
   "name": "flood-dam-portugal"
  },
  "language_info": {
   "codemirror_mode": {
    "name": "ipython",
    "version": 3
   },
   "file_extension": ".py",
   "mimetype": "text/x-python",
   "name": "python",
   "nbconvert_exporter": "python",
   "pygments_lexer": "ipython3",
   "version": "3.8.0"
  }
 },
 "nbformat": 4,
 "nbformat_minor": 5
}
